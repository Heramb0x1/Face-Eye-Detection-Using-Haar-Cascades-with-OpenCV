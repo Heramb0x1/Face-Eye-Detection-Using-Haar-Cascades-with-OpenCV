{
 "cells": [
  {
   "cell_type": "code",
   "execution_count": null,
   "id": "b3bef37b",
   "metadata": {},
   "outputs": [],
   "source": [
    "#Made By @Heramb.0x1\n",
    "#DMs Are Open: https://www.linkedin.com/in/heramb0x1/"
   ]
  },
  {
   "cell_type": "code",
   "execution_count": 1,
   "id": "d6ea9ae7",
   "metadata": {},
   "outputs": [],
   "source": [
    "import cv2\n",
    "face_cascade = cv2.CascadeClassifier(\"D:\\OpenCV (CV-Computer Vision) Project\\Face & Eye Detection File\\haarcascade_frontalface_default.xml\")\n",
    "eye_cascade = cv2.CascadeClassifier(\"D:\\OpenCV (CV-Computer Vision) Project\\Face & Eye Detection File\\haarcascade_eye.xml\")"
   ]
  },
  {
   "cell_type": "code",
   "execution_count": 2,
   "id": "09b20cf4",
   "metadata": {},
   "outputs": [],
   "source": [
    "img_r = cv2.imread(\"D:\\OpenCV (CV-Computer Vision) Project\\Happy Guy.png\")\n",
    "\n",
    "gray = cv2.cvtColor(img_r, cv2.COLOR_BGR2GRAY)"
   ]
  },
  {
   "cell_type": "code",
   "execution_count": 3,
   "id": "2c9830da",
   "metadata": {},
   "outputs": [],
   "source": [
    "faces = face_cascade.detectMultiScale(gray, 2.3,7)\n",
    "# 1.3 = threshold value\n",
    "# 5 = Number of Nearest Neighbours (KNN Concept)"
   ]
  },
  {
   "cell_type": "code",
   "execution_count": 5,
   "id": "0e25102c",
   "metadata": {},
   "outputs": [],
   "source": [
    "for (ex, ey, ew, eh) in faces:\n",
    "    # Draw the rectangle around the face in image\n",
    "    cv2.rectangle(img_r, (ex,ey),(ex+ew, ey+eh), (255,0,0), 2)\n",
    "    #Have to take region of interest, here (i.e. ROI)\n",
    "    roi_gray = gray[ey:ey+eh, ex:ex+ew]\n",
    "    roi_color = img_r[ey:ey+eh, ex:ex+ew]\n",
    "    eyes = eye_cascade.detectMultiScale(roi_gray, 1.3, 5)\n",
    "    for (ex,ey,ew,eh) in eyes:\n",
    "        #Draw the rectangle\n",
    "        cv2.rectangle(roi_color, (ex, ey), (ex + ew, ey + eh), (0, 0, 0), 2)\n",
    "    \n",
    "    \n",
    "cv2.imshow('frame', img_r)\n",
    "cv2.waitKey(0)\n",
    "cv2.destroyAllWindows()"
   ]
  }
 ],
 "metadata": {
  "kernelspec": {
   "display_name": "Python 3 (ipykernel)",
   "language": "python",
   "name": "python3"
  },
  "language_info": {
   "codemirror_mode": {
    "name": "ipython",
    "version": 3
   },
   "file_extension": ".py",
   "mimetype": "text/x-python",
   "name": "python",
   "nbconvert_exporter": "python",
   "pygments_lexer": "ipython3",
   "version": "3.11.5"
  }
 },
 "nbformat": 4,
 "nbformat_minor": 5
}
